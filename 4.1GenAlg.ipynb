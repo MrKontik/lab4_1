{
 "cells": [
  {
   "cell_type": "code",
   "execution_count": 1,
   "metadata": {},
   "outputs": [],
   "source": [
    "from pyeasyga import pyeasyga\n"
   ]
  },
  {
   "cell_type": "code",
   "execution_count": 47,
   "metadata": {},
   "outputs": [
    {
     "name": "stdout",
     "output_type": "stream",
     "text": [
      "[(1094.0, 0.4, 339.0), (810.0, 1.1, 258.0), (1698.0, 0.5, 106.0), (1283.0, 0.5, 189.0), (924.0, 0.7, 356.0), (456.0, 0.8, 103.0), (867.0, 0.6, 195.0), (1350.0, 0.7, 123.0), (1107.0, 1.1, 152.0), (674.0, 1.0, 329.0), (543.0, 0.8, 335.0), (120.0, 1.1, 323.0), (1279.0, 0.8, 349.0), (1083.0, 0.9, 352.0), (572.0, 1.2, 335.0), (209.0, 0.7, 351.0), (471.0, 0.5, 198.0), (1097.0, 0.9, 169.0), (1286.0, 0.5, 353.0), (366.0, 1.1, 136.0), (1240.0, 0.6, 304.0), (168.0, 1.0, 176.0), (1114.0, 0.5, 387.0), (852.0, 0.9, 205.0), (267.0, 0.5, 140.0), (1390.0, 0.5, 195.0), (1207.0, 0.9, 241.0), (468.0, 0.5, 343.0), (601.0, 0.9, 285.0), (621.0, 1.0, 124.0)]\n",
      "13000\n",
      "12\n"
     ]
    }
   ],
   "source": [
    "# setup data\n",
    "f = open('8.txt')\n",
    "data = []\n",
    "lines=f.read()\n",
    "lines=lines.split('\\n')\n",
    "maxWeight=0\n",
    "maxVolume=0\n",
    "for line in lines:\n",
    "    lines = line.split(' ')\n",
    "    if(len(lines)==2):\n",
    "        maxWeight=int(lines[0])\n",
    "        maxVolume=int(lines[1])\n",
    "        d= (float(lines[0]),float(lines[1]))\n",
    "    else:\n",
    "        d= (float(lines[0]),float(lines[1]),float(lines[2]))\n",
    "    \n",
    "    data.append(d)\n",
    "data=data[1:]\n",
    "print(data)\n",
    "print(maxWeight)\n",
    "print(maxVolume)"
   ]
  },
  {
   "cell_type": "code",
   "execution_count": null,
   "metadata": {},
   "outputs": [],
   "source": []
  },
  {
   "cell_type": "code",
   "execution_count": 48,
   "metadata": {},
   "outputs": [],
   "source": [
    "ga = pyeasyga.GeneticAlgorithm(data)        # initialise the GA with data\n",
    "ga.population_size = 200                    # increase population size to 200 (default value is 50)"
   ]
  },
  {
   "cell_type": "code",
   "execution_count": 49,
   "metadata": {},
   "outputs": [],
   "source": [
    "# define a fitness function\n",
    "def fitness(individual, data):\n",
    "    weight, volume, price = 0, 0, 0\n",
    "    for (selected, item) in zip(individual, data):\n",
    "        if selected:\n",
    "            weight += item[0]\n",
    "            volume += item[1]\n",
    "            price += item[2]\n",
    "    if weight > maxWeight or volume > maxVolume:\n",
    "        price = 0\n",
    "    return price\n"
   ]
  },
  {
   "cell_type": "code",
   "execution_count": 50,
   "metadata": {},
   "outputs": [
    {
     "name": "stdout",
     "output_type": "stream",
     "text": [
      "(5114.0, [1, 0, 0, 1, 1, 0, 1, 0, 0, 1, 1, 1, 0, 1, 1, 1, 1, 0, 1, 0, 1, 0, 1, 0, 1, 0, 0, 1, 1, 0])\n"
     ]
    }
   ],
   "source": [
    "ga.fitness_function = fitness               # set the GA's fitness function\n",
    "ga.run()                                    # run the GA\n",
    "print(ga.best_individual())                  # print the GA's best solution"
   ]
  },
  {
   "cell_type": "code",
   "execution_count": null,
   "metadata": {},
   "outputs": [],
   "source": []
  }
 ],
 "metadata": {
  "kernelspec": {
   "display_name": "Python 3",
   "language": "python",
   "name": "python3"
  },
  "language_info": {
   "codemirror_mode": {
    "name": "ipython",
    "version": 3
   },
   "file_extension": ".py",
   "mimetype": "text/x-python",
   "name": "python",
   "nbconvert_exporter": "python",
   "pygments_lexer": "ipython3",
   "version": "3.8.3"
  }
 },
 "nbformat": 4,
 "nbformat_minor": 4
}
